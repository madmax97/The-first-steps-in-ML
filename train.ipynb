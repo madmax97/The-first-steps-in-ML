{
 "cells": [
  {
   "cell_type": "code",
   "execution_count": 1,
   "metadata": {},
   "outputs": [
    {
     "name": "stderr",
     "output_type": "stream",
     "text": [
      "Using TensorFlow backend.\n"
     ]
    }
   ],
   "source": [
    "# Импортируем библиотеку, соответствующую типу нашей базы данных \n",
    "import sqlite3\n",
    "import xlrd, xlwt\n",
    "from tqdm import tqdm_notebook\n",
    "import csv\n",
    "from datetime import datetime\n",
    "import numpy\n",
    "import keras\n",
    "from keras.datasets import mnist\n",
    "from keras.models import Sequential\n",
    "from keras.layers import Dense, Dropout, Activation\n",
    "from keras.utils import np_utils\n",
    "import numpy as np\n",
    "import pandas\n",
    "\n",
    "\n",
    "# Создаем соединение с базой данных\n",
    "conn = sqlite3.connect('C:/Users/Users/Maxim/Nero/Chinook_Sqlite.sqlite')\n",
    "\n",
    "# Создаем курсор\n",
    "cursor2 = conn.cursor()\n",
    "cursor3 = conn.cursor()\n",
    "cursor4 = conn.cursor()\n",
    "fmt = '%Y-%m-%d %H:%M:%S'\n",
    "fmt2 = '%d.%m.%Y %H:%M:%S'\n",
    "\n",
    "# Делаем SELECT запрос\n",
    "cursor2.execute(\"\"\"SELECT * FROM test ORDER BY difference\"\"\")\n",
    "results2 = cursor2.fetchall()\n",
    "\n",
    "ZZZ=0"
   ]
  },
  {
   "cell_type": "code",
   "execution_count": 2,
   "metadata": {},
   "outputs": [],
   "source": [
    "def csv_writer(data, path):\n",
    "    outfile = open(path,'w')\n",
    "    out = csv.writer(outfile)\n",
    "    out.writerows(map(lambda x: [x], data))\n",
    "    outfile.close()"
   ]
  },
  {
   "cell_type": "code",
   "execution_count": null,
   "metadata": {
    "scrolled": true
   },
   "outputs": [
    {
     "data": {
      "application/vnd.jupyter.widget-view+json": {
       "model_id": "d0e9750832ee4c109a6a7dd374585fb4",
       "version_major": 2,
       "version_minor": 0
      },
      "text/plain": [
       "HBox(children=(IntProgress(value=0, max=3071), HTML(value='')))"
      ]
     },
     "metadata": {},
     "output_type": "display_data"
    }
   ],
   "source": [
    "# Счётчики\n",
    "i = 0\n",
    "o = 0\n",
    "b = 0\n",
    "\n",
    "Z = np.zeros((3001,len(results2)))\n",
    "for i in tqdm_notebook(range(len(results2))):\n",
    "    cursor3.execute(\"SELECT * FROM ner2 WHERE data= :data\", {\"data\":results2[i][2]})\n",
    "    results3 = cursor3.fetchall()\n",
    "    if (not(results3 == [])):\n",
    "        cursor4.execute(\"\"\"SELECT * FROM ner2 WHERE id_tweet< :idwt ORDER BY id_tweet DESC LIMIT 1500\"\"\", {\"idwt\":results3[0][1]})\n",
    "        results4 = cursor4.fetchall()\n",
    "        a = 0\n",
    "        if len(results4) == 1500:\n",
    "            while a < 1500:\n",
    "                Z[2 * a][o] = results4[a][3]\n",
    "                Z[2 * a + 1][o] = results4[a][4]\n",
    "                a += 1\n",
    "                b += 1\n",
    "            Z[3000][o] = results3[0][5]\n",
    "        o += 1\n",
    "    i += 1\n",
    "#path = 'C:/Users/Maxim/Nero/Ner/Ner'+str(o)+'.csv' Печать в файл\n",
    "#csv_writer(Z,path)\n",
    "print(i)\n",
    "print(o)"
   ]
  },
  {
   "cell_type": "code",
   "execution_count": null,
   "metadata": {},
   "outputs": [],
   "source": [
    "Z=Z.T\n",
    "X_train = Z[:,0:2999]\n",
    "X_test = Z[:,3000]\n",
    "one_hot_labels = keras.utils.to_categorical(X_test, num_classes=3)"
   ]
  },
  {
   "cell_type": "code",
   "execution_count": null,
   "metadata": {},
   "outputs": [],
   "source": [
    "model = Sequential()\n",
    "model.add(Dense(1500, activation='relu', input_dim=2999))\n",
    "model.add(Dropout(0.5))\n",
    "model.add(Dense(750, activation='relu'))\n",
    "model.add(Dropout(0.5))\n",
    "model.add(Dense(3, activation='softmax'))\n",
    "model.compile(optimizer='rmsprop',\n",
    "              loss='categorical_crossentropy',\n",
    "              metrics=['accuracy'])"
   ]
  },
  {
   "cell_type": "code",
   "execution_count": null,
   "metadata": {},
   "outputs": [],
   "source": [
    "model.fit(X_train, one_hot_labels, epochs=1, batch_size=3)"
   ]
  },
  {
   "cell_type": "code",
   "execution_count": null,
   "metadata": {},
   "outputs": [],
   "source": [
    "from keras.models import load_model\n",
    "model.save('C:/Users/Users/Maxim/Nero/my_model.h5')  # creates a HDF5 file 'my_model.h5'\n",
    "del model  # deletes the existing model\n",
    "\n",
    "# returns a compiled model\n",
    "# identical to the previous one\n",
    "model = load_model('C:/Users/Users/Maxim/Nero/my_model.h5')"
   ]
  },
  {
   "cell_type": "code",
   "execution_count": null,
   "metadata": {},
   "outputs": [],
   "source": []
  }
 ],
 "metadata": {
  "kernelspec": {
   "display_name": "Python 3",
   "language": "python",
   "name": "python3"
  },
  "language_info": {
   "codemirror_mode": {
    "name": "ipython",
    "version": 3
   },
   "file_extension": ".py",
   "mimetype": "text/x-python",
   "name": "python",
   "nbconvert_exporter": "python",
   "pygments_lexer": "ipython3",
   "version": "3.6.6"
  }
 },
 "nbformat": 4,
 "nbformat_minor": 2
}
