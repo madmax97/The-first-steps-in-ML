{
 "cells": [
  {
   "cell_type": "code",
   "execution_count": 46,
   "metadata": {},
   "outputs": [],
   "source": [
    "# Импортируем библиотеку, соответствующую типу нашей базы данных \n",
    "import sqlite3\n",
    "import xlrd, xlwt\n",
    "from tqdm import tqdm_notebook\n",
    "import csv\n",
    "from datetime import datetime\n",
    "\n",
    "# Создаем соединение с нашей базой данных\n",
    "conn = sqlite3.connect('C:/Users/Maxim/Nero/Chinook_Sqlite.sqlite')\n",
    "\n",
    "# Создаем курсор\n",
    "cursor = conn.cursor()\n",
    "fmt = '%Y-%m-%d %H:%M:%S'\n",
    "\n",
    "\n",
    "cursor.execute(\"select max(id_tweet) from twi\")\n",
    "results1 = cursor.fetchall()\n",
    "r = str(results1[0])\n",
    "r = r.replace('\\\\ufeff', '')\n",
    "r = r.replace('\\',)', '')\n",
    "r = r.replace('(\\'', '')"
   ]
  },
  {
   "cell_type": "code",
   "execution_count": 33,
   "metadata": {},
   "outputs": [
    {
     "data": {
      "application/vnd.jupyter.widget-view+json": {
       "model_id": "b5d779d42ec3490e851b00438ea68a1c",
       "version_major": 2,
       "version_minor": 0
      },
      "text/plain": [
       "HBox(children=(IntProgress(value=1, bar_style='info', max=1), HTML(value='')))"
      ]
     },
     "metadata": {},
     "output_type": "display_data"
    },
    {
     "name": "stdout",
     "output_type": "stream",
     "text": [
      "\n"
     ]
    }
   ],
   "source": [
    "#Первая таблица\n",
    "with open('C:/Users/Maxim/Nero/posl_ob.csv', encoding=\"utf8\") as tsvfile:\n",
    "    reader = csv.reader(tsvfile, delimiter=';')\n",
    "    for row in tqdm_notebook(reader):\n",
    "        m = row[3].replace('.', ',')\n",
    "        z = row[4]\n",
    "        d1 = datetime.strftime(datetime.strptime(row[0], '%d.%m.%y %H:%M'), fmt)\n",
    "        d2 = datetime.strftime(datetime.strptime(row[1], '%d.%m.%y %H:%M'), fmt)\n",
    "        cursor.execute(\"insert into test (dtt1,dtt2,close,difference,emot)values (?, ?, ?, ?, ?)\",\n",
    "                   (d1, d2, row[2], m, z))"
   ]
  },
  {
   "cell_type": "code",
   "execution_count": 47,
   "metadata": {
    "scrolled": true
   },
   "outputs": [
    {
     "data": {
      "application/vnd.jupyter.widget-view+json": {
       "model_id": "45279aee65af45428d0393c7bd94a4e2",
       "version_major": 2,
       "version_minor": 0
      },
      "text/plain": [
       "HBox(children=(IntProgress(value=1, bar_style='info', max=1), HTML(value='')))"
      ]
     },
     "metadata": {},
     "output_type": "display_data"
    },
    {
     "ename": "KeyboardInterrupt",
     "evalue": "",
     "output_type": "error",
     "traceback": [
      "\u001b[1;31m---------------------------------------------------------------------------\u001b[0m",
      "\u001b[1;31mKeyboardInterrupt\u001b[0m                         Traceback (most recent call last)",
      "\u001b[1;32m<ipython-input-47-65a7a58885d5>\u001b[0m in \u001b[0;36m<module>\u001b[1;34m()\u001b[0m\n\u001b[0;32m      4\u001b[0m         \u001b[1;32mif\u001b[0m \u001b[1;33m(\u001b[0m\u001b[0mr\u001b[0m\u001b[1;33m<\u001b[0m \u001b[0mrow\u001b[0m\u001b[1;33m[\u001b[0m\u001b[1;36m0\u001b[0m\u001b[1;33m]\u001b[0m\u001b[1;33m)\u001b[0m\u001b[1;33m:\u001b[0m\u001b[1;33m\u001b[0m\u001b[0m\n\u001b[0;32m      5\u001b[0m             cursor.execute(\"insert into twi (id_tweet,sentiment,review,datatme,us_id,followers)values (?,?,?,?,?,?)\",\n\u001b[1;32m----> 6\u001b[1;33m                            (row[0],row[1],row[2],row[3],row[4],row[5]))\n\u001b[0m",
      "\u001b[1;31mKeyboardInterrupt\u001b[0m: "
     ]
    }
   ],
   "source": [
    "with open('C:/Users/Maxim/Nero/bitcoin7.tsv', encoding=\"utf8\") as tsvfile:\n",
    "    reader = csv.reader(tsvfile, delimiter='\\t')\n",
    "    for row in tqdm_notebook(reader):\n",
    "        if (r< row[0]):\n",
    "            cursor.execute(\"insert into twi (id_tweet,sentiment,review,datatme,us_id,followers)values (?, ?, ?, ?, ?, ?)\",\n",
    "                           (row[0], row[1], row[2], row[3], row[4], row[5]))"
   ]
  },
  {
   "cell_type": "code",
   "execution_count": 10,
   "metadata": {},
   "outputs": [
    {
     "data": {
      "application/vnd.jupyter.widget-view+json": {
       "model_id": "0e9ac9d012b34b2ebe35e1722f43aa20",
       "version_major": 2,
       "version_minor": 0
      },
      "text/plain": [
       "HBox(children=(IntProgress(value=1, bar_style='info', max=1), HTML(value='')))"
      ]
     },
     "metadata": {},
     "output_type": "display_data"
    },
    {
     "name": "stdout",
     "output_type": "stream",
     "text": [
      "\n"
     ]
    }
   ],
   "source": [
    "#ДАННЫЕ ИЗ ПЕРВОЙ НЕЙРОСЕТИ В БД\n",
    "with open('C:/Users/Maxim/Nero/TwitterAnalyse/twit2vec/Word2Vec_AverageVectors.csv', encoding=\"utf8\") as tsvfile:\n",
    "  reader = csv.DictReader(tsvfile, delimiter=',')\n",
    "  for row in tqdm_notebook(reader):\n",
    "    cursor.execute(\"insert into ner1 (id_tweet, review, true_sentiment)values (?, ?, ?)\",\n",
    "                   (row[0], row[1], row[2]))"
   ]
  },
  {
   "cell_type": "code",
   "execution_count": 34,
   "metadata": {},
   "outputs": [
    {
     "name": "stdout",
     "output_type": "stream",
     "text": [
      "[(1085, '2018-04-07 00:00:00', '2018-04-07 01:00:00', '6633.53', 209.36, 1), (1086, '2018-04-07 01:00:00', '2018-04-07 02:00:00', '6842.89', -8.23, 0), (1087, '2018-04-07 02:00:00', '2018-04-07 03:00:00', '6834.66', 22.76, 1)]\n"
     ]
    }
   ],
   "source": [
    "# Проверяем результат\n",
    "cursor.execute(\"SELECT * FROM test LIMIT 3\")\n",
    "results = cursor.fetchall()\n",
    "print(results)"
   ]
  },
  {
   "cell_type": "code",
   "execution_count": 35,
   "metadata": {},
   "outputs": [],
   "source": [
    "conn.commit()"
   ]
  },
  {
   "cell_type": "code",
   "execution_count": 48,
   "metadata": {},
   "outputs": [],
   "source": [
    "conn.close()"
   ]
  },
  {
   "cell_type": "code",
   "execution_count": null,
   "metadata": {},
   "outputs": [],
   "source": []
  }
 ],
 "metadata": {
  "kernelspec": {
   "display_name": "Python 3",
   "language": "python",
   "name": "python3"
  },
  "language_info": {
   "codemirror_mode": {
    "name": "ipython",
    "version": 3
   },
   "file_extension": ".py",
   "mimetype": "text/x-python",
   "name": "python",
   "nbconvert_exporter": "python",
   "pygments_lexer": "ipython3",
   "version": "3.6.6"
  }
 },
 "nbformat": 4,
 "nbformat_minor": 2
}
