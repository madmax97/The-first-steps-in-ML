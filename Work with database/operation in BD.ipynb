{
 "cells": [
  {
   "cell_type": "code",
   "execution_count": 23,
   "metadata": {},
   "outputs": [],
   "source": [
    "import sqlite3\n",
    "import xlrd, xlwt\n",
    "from tqdm import tqdm_notebook\n",
    "import csv\n",
    "from datetime import datetime\n",
    "\n",
    "# Создаем соединение\n",
    "conn = sqlite3.connect('C:/Users/Maxim/Nero/Chinook_Sqlite.sqlite')\n",
    "\n",
    "# Создаем курсор\n",
    "cursor1 = conn.cursor()\n",
    "cursor2 = conn.cursor()\n",
    "cursor3 = conn.cursor()\n",
    "cursor4 = conn.cursor()\n",
    "fmt = '%Y-%m-%d %H:%M:%S'\n",
    "fmt2 = '%d.%m.%Y %H:%M:%S'\n",
    "\n",
    "# Делаем SELECT запрос\n",
    "cursor1.execute(\"\"\"SELECT * FROM twi\"\"\")\n",
    "cursor2.execute(\"\"\"SELECT * FROM test\"\"\")\n",
    "\n",
    "results1 = cursor1.fetchall()\n",
    "results2 = cursor2.fetchall()\n",
    "\n",
    "count_run_func_find=0"
   ]
  },
  {
   "cell_type": "code",
   "execution_count": 24,
   "metadata": {},
   "outputs": [],
   "source": [
    "def find(a):\n",
    "    c = []\n",
    "    for y in range(len(results2)):\n",
    "        if (a > datetime.strptime(results2[y][1], fmt) \n",
    "            and a <= datetime.strptime(results2[y][2], fmt)):\n",
    "            \n",
    "            c = results2[y]\n",
    "            #print(c,datetime.strptime(results2[y][1], fmt),datetime.strptime(results2[y][2], fmt))\n",
    "            break\n",
    "        y += 1\n",
    "    #print(\"OK\")\n",
    "    count_run_func_find += 1\n",
    "    print(count_run_func_find)\n",
    "    return(c)"
   ]
  },
  {
   "cell_type": "code",
   "execution_count": 25,
   "metadata": {},
   "outputs": [],
   "source": [
    "def write(res1, res2):\n",
    "    a = res2[4].replace(',', '.')\n",
    "    a = float(a)\n",
    "    if (a > 30):\n",
    "        cursor3.execute(\"insert into p_tw (id_tweet, review, sentiment, datatme, us_id, followers)values (?, ?, ?, ?, ?, ?)\",\n",
    "           (res1[1], 1, res1[3], res1[4], res1[5], res1[6]))\n",
    "    elif (a < -30):\n",
    "        cursor4.execute(\"insert into n_tw (id_tweet, review, sentiment, datatme, us_id, followers)values (?, ?, ?, ?, ?, ?)\",\n",
    "           (res1[1], res1[2], res1[3], res1[4], res1[5], res1[6]))\n",
    "    pass"
   ]
  },
  {
   "cell_type": "code",
   "execution_count": 26,
   "metadata": {
    "scrolled": true
   },
   "outputs": [
    {
     "data": {
      "application/vnd.jupyter.widget-view+json": {
       "model_id": "969cfc60c22346e4983e9e7f2aa1120f",
       "version_major": 2,
       "version_minor": 0
      },
      "text/plain": [
       "HBox(children=(IntProgress(value=0, max=436600), HTML(value='')))"
      ]
     },
     "metadata": {},
     "output_type": "display_data"
    },
    {
     "name": "stdout",
     "output_type": "stream",
     "text": [
      "1\n",
      "2\n",
      "3\n",
      "4\n",
      "5\n",
      "6\n",
      "7\n",
      "8\n",
      "9\n",
      "10\n",
      "11\n",
      "12\n",
      "\n"
     ]
    },
    {
     "name": "stderr",
     "output_type": "stream",
     "text": [
      "Exception in thread Thread-13:\n",
      "Traceback (most recent call last):\n",
      "  File \"C:\\Users\\Maxim\\Anaconda3\\lib\\threading.py\", line 916, in _bootstrap_inner\n",
      "    self.run()\n",
      "  File \"C:\\Users\\Maxim\\Anaconda3\\lib\\site-packages\\tqdm\\_tqdm.py\", line 144, in run\n",
      "    for instance in self.tqdm_cls._instances:\n",
      "  File \"C:\\Users\\Maxim\\Anaconda3\\lib\\_weakrefset.py\", line 60, in __iter__\n",
      "    for itemref in self.data:\n",
      "RuntimeError: Set changed size during iteration\n",
      "\n"
     ]
    },
    {
     "name": "stdout",
     "output_type": "stream",
     "text": [
      "13\n",
      "\n"
     ]
    },
    {
     "ename": "KeyboardInterrupt",
     "evalue": "",
     "output_type": "error",
     "traceback": [
      "\u001b[1;31m---------------------------------------------------------------------------\u001b[0m",
      "\u001b[1;31mKeyboardInterrupt\u001b[0m                         Traceback (most recent call last)",
      "\u001b[1;32m<ipython-input-26-1f3afdac31e8>\u001b[0m in \u001b[0;36m<module>\u001b[1;34m()\u001b[0m\n\u001b[0;32m     11\u001b[0m     elif (datetime.strptime(results1[x][4], fmt)>=datetime.strptime(res[1], fmt) \n\u001b[0;32m     12\u001b[0m           and datetime.strptime(results1[x][4], fmt)<datetime.strptime(res[2], fmt)):\n\u001b[1;32m---> 13\u001b[1;33m         \u001b[0mwr\u001b[0m\u001b[1;33m(\u001b[0m\u001b[0mresults1\u001b[0m\u001b[1;33m[\u001b[0m\u001b[0mx\u001b[0m\u001b[1;33m]\u001b[0m\u001b[1;33m,\u001b[0m\u001b[0mres\u001b[0m\u001b[1;33m)\u001b[0m\u001b[1;33m\u001b[0m\u001b[0m\n\u001b[0m\u001b[0;32m     14\u001b[0m     \u001b[1;32melse\u001b[0m\u001b[1;33m:\u001b[0m\u001b[1;33m\u001b[0m\u001b[0m\n\u001b[0;32m     15\u001b[0m         \u001b[0mres\u001b[0m\u001b[1;33m,\u001b[0m\u001b[0mZZZ\u001b[0m\u001b[1;33m=\u001b[0m\u001b[0mfind\u001b[0m\u001b[1;33m(\u001b[0m\u001b[0mdatetime\u001b[0m\u001b[1;33m.\u001b[0m\u001b[0mstrptime\u001b[0m\u001b[1;33m(\u001b[0m\u001b[0mresults1\u001b[0m\u001b[1;33m[\u001b[0m\u001b[0mx\u001b[0m\u001b[1;33m]\u001b[0m\u001b[1;33m[\u001b[0m\u001b[1;36m4\u001b[0m\u001b[1;33m]\u001b[0m\u001b[1;33m,\u001b[0m\u001b[0mfmt\u001b[0m\u001b[1;33m)\u001b[0m\u001b[1;33m,\u001b[0m\u001b[0mZZZ\u001b[0m\u001b[1;33m)\u001b[0m\u001b[1;33m\u001b[0m\u001b[0m\n",
      "\u001b[1;32m<ipython-input-25-61f3a1372abf>\u001b[0m in \u001b[0;36mwr\u001b[1;34m(res1, res2)\u001b[0m\n\u001b[0;32m      4\u001b[0m     \u001b[1;32mif\u001b[0m \u001b[1;33m(\u001b[0m\u001b[0ma\u001b[0m\u001b[1;33m>\u001b[0m\u001b[1;36m30\u001b[0m\u001b[1;33m)\u001b[0m\u001b[1;33m:\u001b[0m\u001b[1;33m\u001b[0m\u001b[0m\n\u001b[0;32m      5\u001b[0m         cursor3.execute(\"insert into p_tw (id_tweet,review,sentiment,datatme,us_id,followers)values (?,?,?,?,?,?)\",\n\u001b[1;32m----> 6\u001b[1;33m            (res1[1],1,res1[3],res1[4],res1[5],res1[6]))\n\u001b[0m\u001b[0;32m      7\u001b[0m     \u001b[1;32melif\u001b[0m \u001b[1;33m(\u001b[0m\u001b[0ma\u001b[0m\u001b[1;33m<\u001b[0m\u001b[1;33m-\u001b[0m\u001b[1;36m30\u001b[0m\u001b[1;33m)\u001b[0m\u001b[1;33m:\u001b[0m\u001b[1;33m\u001b[0m\u001b[0m\n\u001b[0;32m      8\u001b[0m         cursor4.execute(\"insert into n_tw (id_tweet,review,sentiment,datatme,us_id,followers)values (?,?,?,?,?,?)\",\n",
      "\u001b[1;31mKeyboardInterrupt\u001b[0m: "
     ]
    }
   ],
   "source": [
    "x = 0\n",
    "y = 0\n",
    "cntrl = 0\n",
    "res = []\n",
    "for x in tqdm_notebook(range(len(results1))):\n",
    "    if (cntrl == 0):\n",
    "        res = find(datetime.strptime(results1[x][4], fmt))\n",
    "        write(results1[x], res)\n",
    "        cntrl = 1\n",
    "    elif (datetime.strptime(results1[x][4], fmt) >= datetime.strptime(res[1], fmt) \n",
    "          and datetime.strptime(results1[x][4], fmt) < datetime.strptime(res[2], fmt)):\n",
    "        write(results1[x],res)\n",
    "    else:\n",
    "        res = find(datetime.strptime(results1[x][4], fmt))\n",
    "        arec = write(results1[x],res)\n",
    "    x += 1\n",
    "print(count_run_func_find)"
   ]
  },
  {
   "cell_type": "code",
   "execution_count": 229,
   "metadata": {},
   "outputs": [],
   "source": [
    "conn.commit()"
   ]
  },
  {
   "cell_type": "code",
   "execution_count": 27,
   "metadata": {},
   "outputs": [],
   "source": [
    "conn.close()"
   ]
  },
  {
   "cell_type": "code",
   "execution_count": 144,
   "metadata": {},
   "outputs": [
    {
     "data": {
      "text/plain": [
       "'2018-04-26 09:13:37'"
      ]
     },
     "execution_count": 144,
     "metadata": {},
     "output_type": "execute_result"
    }
   ],
   "source": [
    "rower = results1[134]\n",
    "rower[4]"
   ]
  },
  {
   "cell_type": "code",
   "execution_count": 139,
   "metadata": {},
   "outputs": [
    {
     "data": {
      "text/plain": [
       "'2018-04-26 09:00:00'"
      ]
     },
     "execution_count": 139,
     "metadata": {},
     "output_type": "execute_result"
    }
   ],
   "source": [
    "results1[x][4]"
   ]
  },
  {
   "cell_type": "code",
   "execution_count": 163,
   "metadata": {},
   "outputs": [
    {
     "data": {
      "text/plain": [
       "1792"
      ]
     },
     "execution_count": 163,
     "metadata": {},
     "output_type": "execute_result"
    }
   ],
   "source": [
    "count_run_func_find"
   ]
  },
  {
   "cell_type": "code",
   "execution_count": 221,
   "metadata": {},
   "outputs": [
    {
     "data": {
      "text/plain": [
       "'Bitcoin Cash BCH Current Price 1.310,240 1 Hour -2.22 24 Hours -0.92 7 Days 45.83 cash'"
      ]
     },
     "execution_count": 221,
     "metadata": {},
     "output_type": "execute_result"
    }
   ],
   "source": [
    "results1[51][3]"
   ]
  },
  {
   "cell_type": "code",
   "execution_count": null,
   "metadata": {},
   "outputs": [],
   "source": []
  }
 ],
 "metadata": {
  "kernelspec": {
   "display_name": "Python 3",
   "language": "python",
   "name": "python3"
  },
  "language_info": {
   "codemirror_mode": {
    "name": "ipython",
    "version": 3
   },
   "file_extension": ".py",
   "mimetype": "text/x-python",
   "name": "python",
   "nbconvert_exporter": "python",
   "pygments_lexer": "ipython3",
   "version": "3.6.6"
  }
 },
 "nbformat": 4,
 "nbformat_minor": 2
}
